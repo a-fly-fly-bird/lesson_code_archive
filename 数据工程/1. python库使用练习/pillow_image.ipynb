{
 "cells": [
  {
   "cell_type": "code",
   "execution_count": 4,
   "metadata": {},
   "outputs": [],
   "source": [
    "from PIL import Image"
   ]
  },
  {
   "cell_type": "markdown",
   "metadata": {},
   "source": [
    "## 常用命令\n",
    "* 命令模式：Esc\n",
    "* 编辑模式：Enter\t\n",
    "* 运行本单元，选择下行单元：\tshift + enter\n",
    "* 运行本单元：\tcontrol + enter\n",
    "* 运行本单元，插入下行新单元： ⌥（option） + enter\n",
    "* 更改单元格为Code：Y\n",
    "* 更改单元格为Markdown：M"
   ]
  },
  {
   "cell_type": "markdown",
   "metadata": {},
   "source": [
    "# 图像类基操"
   ]
  },
  {
   "cell_type": "markdown",
   "metadata": {},
   "source": [
    "## Image类基本操作"
   ]
  },
  {
   "cell_type": "code",
   "execution_count": 5,
   "metadata": {},
   "outputs": [],
   "source": [
    "im = Image.open('images/ross.jpg',mode=\"r\")"
   ]
  },
  {
   "cell_type": "code",
   "execution_count": 6,
   "metadata": {},
   "outputs": [],
   "source": [
    "im.show()"
   ]
  },
  {
   "cell_type": "code",
   "execution_count": 7,
   "metadata": {},
   "outputs": [],
   "source": [
    "# 图片颜色，默认值为 0 表示黑色，参数值支持(R,G,B)三元组数字格式、颜色的十 六进制值以及颜色英文单词\n",
    "im = Image.new(mode='RGB', size=(100, 100), color=(255, 123, 123))\n",
    "im.show()"
   ]
  },
  {
   "cell_type": "code",
   "execution_count": 8,
   "metadata": {},
   "outputs": [],
   "source": [
    "# format to use is determined from the filename extension. 不用硬指定格式\n",
    "im.save('./images/2.png')"
   ]
  },
  {
   "cell_type": "code",
   "execution_count": 9,
   "metadata": {},
   "outputs": [
    {
     "data": {
      "text/plain": [
       "(820, 613)"
      ]
     },
     "execution_count": 9,
     "metadata": {},
     "output_type": "execute_result"
    }
   ],
   "source": [
    "im = Image.open('images/ross.jpg')\n",
    "im.size"
   ]
  },
  {
   "cell_type": "code",
   "execution_count": 10,
   "metadata": {},
   "outputs": [],
   "source": [
    "im.show()"
   ]
  },
  {
   "cell_type": "code",
   "execution_count": 11,
   "metadata": {},
   "outputs": [
    {
     "data": {
      "text/plain": [
       "(200, 300)"
      ]
     },
     "execution_count": 11,
     "metadata": {},
     "output_type": "execute_result"
    }
   ],
   "source": [
    "# factor_x = int((box[2] - box[0]) / size[0] / reducing_gap) or 1\n",
    "#             factor_y = int((box[3] - box[1]) / size[1] / reducing_gap) or 1\n",
    "#             if factor_x > 1 or factor_y > 1:\n",
    "# 从上面看出，只有满足倍数关系，才会进行缩放，如果只设置元组，没有其他条件，那么比原图片像素小不缩放\n",
    "image = im.resize((200, 300))\n",
    "image.size"
   ]
  },
  {
   "cell_type": "code",
   "execution_count": 12,
   "metadata": {},
   "outputs": [],
   "source": [
    "image.show()"
   ]
  },
  {
   "cell_type": "code",
   "execution_count": 13,
   "metadata": {},
   "outputs": [],
   "source": [
    "# 像素对比图如下\n",
    "vs = Image.open('images/vs.jpg')\n",
    "vs.show()\n"
   ]
  },
  {
   "cell_type": "code",
   "execution_count": 14,
   "metadata": {},
   "outputs": [
    {
     "data": {
      "text/plain": [
       "(1000, 800)"
      ]
     },
     "execution_count": 14,
     "metadata": {},
     "output_type": "execute_result"
    }
   ],
   "source": [
    "image = im.resize((1000, 800))\n",
    "image.size"
   ]
  },
  {
   "cell_type": "code",
   "execution_count": 15,
   "metadata": {},
   "outputs": [],
   "source": [
    "image.show()"
   ]
  },
  {
   "cell_type": "markdown",
   "metadata": {},
   "source": [
    "## split 分离颜色通道"
   ]
  },
  {
   "cell_type": "markdown",
   "metadata": {},
   "source": [
    "要理解如下的代码，首先需要理解RGB与通道的关系。我们说RGB，是因为通常把三元组(0-255, 0-255, 0-255)送到了RGB通道中。\n",
    "\n",
    "一言以蔽之，灰度表示亮度。默认没有颜色的状态下就是黑白以及中间的亮度（灰）。把三元组输送到RGB通道上表示红色，绿色，灰色的亮度，组合起来就五颜六色了。"
   ]
  },
  {
   "cell_type": "code",
   "execution_count": 16,
   "metadata": {},
   "outputs": [],
   "source": [
    "# 自动解包\n",
    "r, g, b = image.split()"
   ]
  },
  {
   "cell_type": "code",
   "execution_count": 17,
   "metadata": {},
   "outputs": [],
   "source": [
    "r.show()"
   ]
  },
  {
   "cell_type": "code",
   "execution_count": 18,
   "metadata": {},
   "outputs": [],
   "source": [
    "g.show()"
   ]
  },
  {
   "cell_type": "code",
   "execution_count": 19,
   "metadata": {},
   "outputs": [],
   "source": [
    "b.show()"
   ]
  },
  {
   "cell_type": "code",
   "execution_count": 20,
   "metadata": {},
   "outputs": [],
   "source": [
    "import numpy as np"
   ]
  },
  {
   "cell_type": "code",
   "execution_count": 21,
   "metadata": {},
   "outputs": [
    {
     "data": {
      "text/plain": [
       "(800, 1000)"
      ]
     },
     "execution_count": 21,
     "metadata": {},
     "output_type": "execute_result"
    }
   ],
   "source": [
    "# 'Image' object does not support item assignment\n",
    "# im_gray = Image.new(mode='RGB', size=(1000, 800), color=(200, 200, 200))\n",
    "# im_gray.show()\n",
    "\n",
    "# 注意 行列 与 长宽 的转换\n",
    "im_gray = np.zeros((image.height, image.width))\n",
    "im_gray.shape"
   ]
  },
  {
   "cell_type": "code",
   "execution_count": 22,
   "metadata": {},
   "outputs": [],
   "source": [
    "for i in range(0, image.height):\n",
    "  for j in range(0, image.width):\n",
    "    r_pixel, g_pixel, b_pixel = image.getpixel((j, i))\n",
    "    # 均值 灰度\n",
    "    im_gray[i][j] = (r_pixel + g_pixel + b_pixel) / 3"
   ]
  },
  {
   "cell_type": "code",
   "execution_count": 23,
   "metadata": {},
   "outputs": [],
   "source": [
    "im_gray = Image.fromarray(np.uint8(im_gray))\n",
    "im_gray.show()"
   ]
  },
  {
   "cell_type": "markdown",
   "metadata": {},
   "source": [
    "### RGB 转为灰度值的心理学公式 Gray = 0.30R + 0.59G + 0.11B "
   ]
  },
  {
   "cell_type": "code",
   "execution_count": 24,
   "metadata": {},
   "outputs": [
    {
     "data": {
      "text/plain": [
       "(800, 1000)"
      ]
     },
     "execution_count": 24,
     "metadata": {},
     "output_type": "execute_result"
    }
   ],
   "source": [
    "im_gray = np.zeros((image.height, image.width))\n",
    "im_gray.shape"
   ]
  },
  {
   "cell_type": "code",
   "execution_count": 25,
   "metadata": {},
   "outputs": [],
   "source": [
    "for i in range(0, image.height):\n",
    "  for j in range(0, image.width):\n",
    "    r_pixel, g_pixel, b_pixel = image.getpixel((j, i))\n",
    "    # 均值 灰度\n",
    "    im_gray[i][j] = (0.3 * r_pixel + 0.59 * g_pixel + 0.11 * b_pixel) / 3"
   ]
  },
  {
   "cell_type": "code",
   "execution_count": 26,
   "metadata": {},
   "outputs": [],
   "source": [
    "im_gray = Image.fromarray(np.uint8(im_gray))\n",
    "im_gray.show()"
   ]
  },
  {
   "cell_type": "markdown",
   "metadata": {},
   "source": [
    "### 结果对比\n",
    "可以看到均值的灰度明显比较暗淡，与图片预想的灰度图像明显不同。\n",
    "\n",
    "运用如上公式，得到的灰度图就比较合理。为什么称这个公式为心理学公式呢？\n",
    "\n",
    "> 因为人眼对RGB颜色的感知并不相同，所以转换的时候需要给予不同的权重。（人眼对绿色敏感，为了灰度后的结果符合预期，提高绿色的权重）\n",
    "\n",
    "参考：\n",
    "* https://www.zhihu.com/question/22039410\n",
    "* https://blog.csdn.net/silence2015/article/details/53789748\n",
    "* https://baike.baidu.com/item/颜色通道/5706858\n",
    "* https://web.stanford.edu/class/cs101/image-6-grayscale-adva.html"
   ]
  },
  {
   "cell_type": "markdown",
   "metadata": {},
   "source": [
    "## 灰度接口"
   ]
  },
  {
   "cell_type": "code",
   "execution_count": 60,
   "metadata": {},
   "outputs": [],
   "source": [
    "im6 = im.convert('L')\n",
    "im6.show()"
   ]
  },
  {
   "cell_type": "markdown",
   "metadata": {},
   "source": [
    "## merge"
   ]
  },
  {
   "cell_type": "code",
   "execution_count": 27,
   "metadata": {},
   "outputs": [],
   "source": [
    "im = Image.open('images/ross.jpg')\n",
    "im.resize((900, 800))\n",
    "r,g,b = im.split()\n",
    "# 这里可以看到，把rg分别送到gr通道，就可以得到一个rg亮度置换的图片\n",
    "image_merge=Image.merge('RGB',(b,g,r))\n",
    "image_merge.show()\n"
   ]
  },
  {
   "cell_type": "code",
   "execution_count": 28,
   "metadata": {},
   "outputs": [],
   "source": [
    "image_merge.save('./images/3.png')"
   ]
  },
  {
   "cell_type": "markdown",
   "metadata": {},
   "source": [
    "## crop()"
   ]
  },
  {
   "cell_type": "code",
   "execution_count": 29,
   "metadata": {},
   "outputs": [],
   "source": [
    "# crop(box=None) box 是一个有四个数字的元组参数 (x_左上,y_左下,x1_右上,y1_右下)，分别表示被裁 剪矩形区域的左上⻆ x、y 坐标和右下⻆ x，y 坐标。\n",
    "box = (0,0, 500, 500)\n",
    "im_crop = im.crop(box)\n",
    "im_crop.show()"
   ]
  },
  {
   "cell_type": "markdown",
   "metadata": {},
   "source": [
    "## transpose()"
   ]
  },
  {
   "cell_type": "code",
   "execution_count": 30,
   "metadata": {},
   "outputs": [],
   "source": [
    "# 图像旋转操作\n",
    "# TRANSPOSE is deprecated and will be removed in Pillow 10 (2023-07-01). Use Transpose.TRANSPOSE instead.\n",
    "# im_transpose = im.transpose(Image.FLIP_TOP_BOTTOM)\n",
    "im_transpose = im.transpose(Image.Transpose.FLIP_TOP_BOTTOM)\n",
    "im_transpose.show()"
   ]
  },
  {
   "cell_type": "code",
   "execution_count": 31,
   "metadata": {},
   "outputs": [],
   "source": [
    "im.save('./images/4.png')"
   ]
  },
  {
   "cell_type": "code",
   "execution_count": 58,
   "metadata": {},
   "outputs": [],
   "source": [
    "img = im.rotate(45) # 图像旋转45度\n",
    "img.show()"
   ]
  },
  {
   "cell_type": "markdown",
   "metadata": {},
   "source": [
    "# 图像降噪处理"
   ]
  },
  {
   "cell_type": "markdown",
   "metadata": {},
   "source": [
    "Pillow 通过 ImageFilter 类达到图像降噪的目的，该类中集成了不同种类的滤波器，通过调 用它们从而实现图像的平滑、锐化、边界增强等图像降噪操作。"
   ]
  },
  {
   "cell_type": "code",
   "execution_count": 32,
   "metadata": {},
   "outputs": [],
   "source": [
    "import matplotlib.pyplot as plt\n",
    "import cv2 as cv"
   ]
  },
  {
   "cell_type": "markdown",
   "metadata": {},
   "source": [
    "## 扩张 和 侵蚀"
   ]
  },
  {
   "cell_type": "markdown",
   "metadata": {},
   "source": [
    "侵蚀一般搭配膨胀来使用。"
   ]
  },
  {
   "cell_type": "code",
   "execution_count": 33,
   "metadata": {},
   "outputs": [],
   "source": [
    "# @param flags Flag that can take values of cv::ImreadModes, filename指图像名称，flag指读取图像颜色类型。\n",
    "# flag = 0, 8 位深度，1 通道。 flag = 1，8位深度，3通道，其他看这里：https://blog.csdn.net/qq_27278957/article/details/84589526\n",
    "\n",
    "# cv read 出来的也是 ndarray ..\n",
    "img = cv.imread('images/5.png', 0)\n",
    "kernel = np.ones((5,5),np.uint8)\n",
    "# 扩张\n",
    "# return type is numpy.ndarray\n",
    "dilate_np = cv.dilate(img, kernel,iterations = 1)"
   ]
  },
  {
   "cell_type": "code",
   "execution_count": 34,
   "metadata": {},
   "outputs": [
    {
     "data": {
      "image/png": "[encoded data removed]",
      "text/plain": [
       "<Figure size 432x288 with 1 Axes>"
      ]
     },
     "metadata": {
      "needs_background": "light"
     },
     "output_type": "display_data"
    }
   ],
   "source": [
    "plt.imshow(dilate_np)\n",
    "plt.axis('off')\n",
    "plt.title('rose')\n",
    "plt.show()"
   ]
  },
  {
   "cell_type": "code",
   "execution_count": 35,
   "metadata": {},
   "outputs": [],
   "source": [
    "# 侵蚀\n",
    "erosion_np = cv.erode(dilate_np, kernel, iterations = 1)"
   ]
  },
  {
   "cell_type": "code",
   "execution_count": 36,
   "metadata": {},
   "outputs": [
    {
     "data": {
      "image/png": "[encoded data removed]",
      "text/plain": [
       "<Figure size 432x288 with 1 Axes>"
      ]
     },
     "metadata": {
      "needs_background": "light"
     },
     "output_type": "display_data"
    }
   ],
   "source": [
    "plt.imshow(erosion_np)\n",
    "plt.axis('off')\n",
    "plt.title('rose')\n",
    "plt.show()"
   ]
  },
  {
   "cell_type": "markdown",
   "metadata": {},
   "source": [
    "### 开运算和闭运算"
   ]
  },
  {
   "cell_type": "code",
   "execution_count": 37,
   "metadata": {},
   "outputs": [],
   "source": [
    "img = cv.imread('images/6.png')\n",
    "im = Image.fromarray(img)\n",
    "im.show()"
   ]
  },
  {
   "cell_type": "code",
   "execution_count": 38,
   "metadata": {},
   "outputs": [],
   "source": [
    "kernel = np.ones((3,3),np.uint8)\n",
    "closing = cv.morphologyEx(img, cv.MORPH_CLOSE, kernel)"
   ]
  },
  {
   "cell_type": "code",
   "execution_count": 39,
   "metadata": {},
   "outputs": [
    {
     "data": {
      "image/png": "[encoded data removed]",
      "text/plain": [
       "<Figure size 432x288 with 1 Axes>"
      ]
     },
     "metadata": {
      "needs_background": "light"
     },
     "output_type": "display_data"
    }
   ],
   "source": [
    "plt.imshow(closing)\n",
    "plt.axis('off')\n",
    "plt.show()"
   ]
  },
  {
   "cell_type": "code",
   "execution_count": 40,
   "metadata": {},
   "outputs": [],
   "source": [
    "# # cv 窗口展示\n",
    "# cv.imshow('image',closing)\n",
    "# cv.waitKey(0)\n",
    "# cv.destroyAllWindows()"
   ]
  },
  {
   "cell_type": "markdown",
   "metadata": {},
   "source": [
    "## 图像模糊处理"
   ]
  },
  {
   "cell_type": "code",
   "execution_count": 41,
   "metadata": {},
   "outputs": [],
   "source": [
    "from PIL import ImageFilter"
   ]
  },
  {
   "cell_type": "code",
   "execution_count": 49,
   "metadata": {},
   "outputs": [],
   "source": [
    "im = Image.open('images/ross.jpg')\n",
    "# PIL.ImageFilter.BoxBlur(radius)\n",
    "# PIL.ImageFilter.GaussianBlur(radius=2)\n",
    "# 很多blur的类型\n",
    "im_blur=im.filter(ImageFilter.GaussianBlur(20))\n"
   ]
  },
  {
   "cell_type": "code",
   "execution_count": 50,
   "metadata": {},
   "outputs": [],
   "source": [
    "im_blur.show()"
   ]
  },
  {
   "cell_type": "markdown",
   "metadata": {},
   "source": [
    "## 图像生成轮廓图和边缘检测"
   ]
  },
  {
   "cell_type": "code",
   "execution_count": 52,
   "metadata": {},
   "outputs": [],
   "source": [
    "# 生成轮廓图\n",
    "im2=im.filter(ImageFilter.CONTOUR)\n",
    "im2.show()"
   ]
  },
  {
   "cell_type": "code",
   "execution_count": 53,
   "metadata": {},
   "outputs": [],
   "source": [
    "# 边缘检测\n",
    "im3=im.filter(ImageFilter.FIND_EDGES)\n",
    "im3.show()"
   ]
  },
  {
   "cell_type": "code",
   "execution_count": 54,
   "metadata": {},
   "outputs": [],
   "source": [
    "im.show()"
   ]
  },
  {
   "cell_type": "code",
   "execution_count": 55,
   "metadata": {},
   "outputs": [],
   "source": [
    "# 浮雕图\n",
    "im4=im.filter(ImageFilter.EMBOSS)\n",
    "im4.show()"
   ]
  },
  {
   "cell_type": "code",
   "execution_count": 57,
   "metadata": {},
   "outputs": [],
   "source": [
    "# 平滑\n",
    "im5=im.filter(ImageFilter.SMOOTH)\n",
    "im5.show()"
   ]
  }
 ],
 "metadata": {
  "kernelspec": {
   "display_name": "Python 3.9.13 ('base')",
   "language": "python",
   "name": "python3"
  },
  "language_info": {
   "codemirror_mode": {
    "name": "ipython",
    "version": 3
   },
   "file_extension": ".py",
   "mimetype": "text/x-python",
   "name": "python",
   "nbconvert_exporter": "python",
   "pygments_lexer": "ipython3",
   "version": "3.9.13"
  },
  "orig_nbformat": 4,
  "vscode": {
   "interpreter": {
    "hash": "c6e4e9f98eb68ad3b7c296f83d20e6de614cb42e90992a65aa266555a3137d0d"
   }
  }
 },
 "nbformat": 4,
 "nbformat_minor": 2
}
